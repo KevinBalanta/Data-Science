{
 "cells": [
  {
   "cell_type": "markdown",
   "metadata": {},
   "source": [
    "__Autor: Christian Camilo Urcuqui López__\n",
    "\n",
    "__Date: 24 February 2019__"
   ]
  },
  {
   "cell_type": "markdown",
   "metadata": {},
   "source": [
    "# Reasoning\n",
    "\n",
    "It is an attribute of human being. The capacity of reasoning allows any person to remember information related to events and make new knowledge about things that we are not lived yet.\n",
    "\n",
    "This capacity allows us to classify objects and situations, through this we can recognize them and make decisions about them. For example, if someone shows us a computer we can identify it through its features, we can do this with things that we knew previously, for example:\n",
    "\n",
    "+ It has a mouse\n",
    "+ It has a monitor\n",
    "+ It has a keyboard\n",
    "+ Etc."
   ]
  },
  {
   "cell_type": "markdown",
   "metadata": {},
   "source": [
    "## Expert systems\n",
    "\n",
    "<img src=\"https://www.igcseict.info/theory/7_2/expert/files/stacks_image_5738.png\" />"
   ]
  },
  {
   "cell_type": "markdown",
   "metadata": {},
   "source": [
    "Since the first artificial intelligence works have tried to develop computers with reasoning capacities like humans. The first systems were called knowledge-based system (KBS) which don't reason but they are specially designed to resolve a specific complex problem through the application of logic rules (it is called the knowledge domine). "
   ]
  },
  {
   "cell_type": "markdown",
   "metadata": {},
   "source": [
    "These solutions have two main components, they are:\n",
    "\n",
    "+ The Knowledge Base\n",
    "\n",
    "This focuses to save the information about the domain to make conclusions about the inputs. \n",
    "+ The Inference Engine\n",
    "\n",
    "It is the reasoning process about the solution which searches information in the knowledge edge and it relates them to get a coherent conclusion related to the problem approached."
   ]
  },
  {
   "cell_type": "markdown",
   "metadata": {},
   "source": [
    "In a __Expert System__ the _inference engine_ is based in rules and a base of acts or memory of works. \n",
    "\n",
    "An act has information about a domain, and it allows us to associate acts with other new acts, like the next rule\n",
    "\n",
    "antecedent(x) $\\to$ consequent(x) \n",
    "\n",
    "In the inference engine we can find two search strategies, the most used is called _forward chaining_ and another is named _backward chaining_. In the forward chaining, the expert system makes inferences according to the antecedents of the rules.\n"
   ]
  },
  {
   "cell_type": "markdown",
   "metadata": {},
   "source": [
    "### Frameworks\n",
    "\n",
    "let's see some frameworks which allows us to build some components of an expert system. Based in CLIPS (http://www.clipsrules.net/) PyKnow is going to give us the ways to apply this area. \n",
    "\n",
    "Let's install the library\n",
    "\n",
    "```\n",
    "pip install pyknow\n",
    "```\n"
   ]
  },
  {
   "cell_type": "markdown",
   "metadata": {},
   "source": [
    "__Fact__ is a basic unit of PyKnow which are used by the system to reason about the problem. \n",
    "\n",
    "__Rule__ is a callable, decorated with _Rule_. Rules have two components, LHS (left-hand-side) and RHS (right-hand-side).\n",
    "\n",
    "+ The LHS describes (using patterns) the conditions on which the rule _n_ should be executed.\n",
    "+ The RHS is the set of actions to perform when the rule is fired\n",
    "\n",
    "For a Fact to match a Pattern, all pattern restrictions must be True when the Fact is evaluated against it. "
   ]
  },
  {
   "cell_type": "markdown",
   "metadata": {},
   "source": [
    "In the next example we can implement our first hello world of expert systems in Python, look how we made the rules and how we defined their results. "
   ]
  },
  {
   "cell_type": "code",
   "execution_count": 3,
   "metadata": {},
   "outputs": [],
   "source": [
    "from random import choice\n",
    "from pyknow import *\n",
    "\n",
    "class Light(Fact):\n",
    "    \"\"\"Info about the traffic light.\"\"\"\n",
    "    pass\n",
    "\n",
    "\n",
    "class RobotCrossStreet(KnowledgeEngine):\n",
    "    @Rule(Light(color='green'))\n",
    "    def green_light(self):\n",
    "        print(\"Walk\")\n",
    "\n",
    "    @Rule(Light(color='red'))\n",
    "    def red_light(self):\n",
    "        print(\"Don't walk\")\n",
    "\n",
    "    @Rule(AS.light << Light(color=L('yellow') | L('blinking-yellow')))\n",
    "    def cautious(self, light):\n",
    "        print(\"Be cautious because light is\", light[\"color\"])"
   ]
  },
  {
   "cell_type": "markdown",
   "metadata": {},
   "source": [
    "This is the usual process to execute a KnowledgeEngine.\n",
    "\n",
    "+ The class must be instantiated, of course.\n",
    "+ The reset method must be called:\n",
    "    + This declares the special fact InitialFact. Necessary for some rules to work properly.\n",
    "    + Declare all facts yielded by the methods decorated with @DefFacts.\n",
    "+ The run method must be called. This starts the cycle of execution."
   ]
  },
  {
   "cell_type": "code",
   "execution_count": 4,
   "metadata": {},
   "outputs": [
    {
     "name": "stdout",
     "output_type": "stream",
     "text": [
      "Be cautious because light is yellow\n"
     ]
    }
   ],
   "source": [
    "engine = RobotCrossStreet()\n",
    "engine.reset()\n",
    "engine.declare(Light(color=choice(['green', 'yellow', 'blinking-yellow', 'red'])))\n",
    "engine.run()"
   ]
  },
  {
   "cell_type": "code",
   "execution_count": 49,
   "metadata": {},
   "outputs": [
    {
     "name": "stdout",
     "output_type": "stream",
     "text": [
      "Where are you? home\n",
      "What's your name? Mr.Urcuqui\n",
      "Hi Mr.Urcuqui! How is the weather in home?\n"
     ]
    }
   ],
   "source": [
    "from random import choice\n",
    "from pyknow import *\n",
    "\n",
    "class Greetings(KnowledgeEngine):\n",
    "    # Most of the time expert systems needs a set of facts to be present \n",
    "    # for the system to work. This is the purpose of the DefFacts decorator\n",
    "    @DefFacts()\n",
    "    def _initial_action(self):\n",
    "        yield Fact(action=\"greet\")\n",
    "\n",
    "    @Rule(Fact(action='greet'),\n",
    "          NOT(Fact(name=W())))\n",
    "    def ask_name(self):\n",
    "        self.declare(Fact(name=input(\"What's your name? \")))\n",
    "\n",
    "    @Rule(Fact(action='greet'),\n",
    "          NOT(Fact(location=W())))\n",
    "    def ask_location(self):\n",
    "        self.declare(Fact(location=input(\"Where are you? \")))\n",
    "\n",
    "    @Rule(Fact(action='greet'),\n",
    "          Fact(name=MATCH.name),\n",
    "          Fact(location=MATCH.location))\n",
    "    def greet(self, name, location):\n",
    "        print(\"Hi %s! How is the weather in %s?\" % (name, location))\n",
    "\n",
    "engine = Greetings()\n",
    "engine.reset()  # Prepare the engine for the execution.\n",
    "engine.run()  # Run it!"
   ]
  },
  {
   "cell_type": "markdown",
   "metadata": {},
   "source": [
    "Let's make a Rock–paper–scissors game "
   ]
  },
  {
   "cell_type": "code",
   "execution_count": 50,
   "metadata": {},
   "outputs": [],
   "source": [
    "from pyknow import *\n",
    "import random\n",
    "\n",
    "NERD = True"
   ]
  },
  {
   "cell_type": "code",
   "execution_count": 56,
   "metadata": {},
   "outputs": [
    {
     "name": "stdout",
     "output_type": "stream",
     "text": [
      "Lets play a game!\n",
      "You choose rock, paper, or scissors,\n",
      "and I'll do the same.\n",
      "Scissors (S), Paper (P), Rock (R)? R\n",
      "Computer wins! Paper covers rock\n",
      "Play again?S\n",
      "You won 0 game(s).\n",
      "Computer won 1 game(s).\n",
      "We tied 0 game(s).\n"
     ]
    }
   ],
   "source": [
    "class WinTotals(Fact):\n",
    "    human = Field(int, default=0)\n",
    "    computer = Field(int, default=0)\n",
    "    ties = Field(int, default=0)\n",
    "    \n",
    "class Results(Fact):\n",
    "    winner = Field(str, mandatory=True)\n",
    "    loser = Field(str, mandatory=True)\n",
    "    why = Field(str, mandatory=True)\n",
    "    \n",
    "class ValidAnswer(Fact):\n",
    "    answer = Field(str, mandatory=True)\n",
    "    key = Field(str, mandatory=True)\n",
    "\n",
    "class Action(Fact):\n",
    "    pass\n",
    "\n",
    "class HumanChoice(Fact):\n",
    "    pass\n",
    "\n",
    "class ComputerChoice(Fact):\n",
    "    pass\n",
    "\n",
    "class RockPaperScissors(KnowledgeEngine):\n",
    "    def yes_or_no(self, question):\n",
    "        return input(question).upper().startswith('Y')\n",
    "    \n",
    "    @DefFacts()\n",
    "    def game_rules(self, is_nerd=False):\n",
    "        \"\"\"Declare game rules and valid input keys for the user.\"\"\"\n",
    "        self.valid_answers = dict()\n",
    "        \n",
    "        yield Results(winner='rock', loser='scissors', why='Rock smashes scissors')\n",
    "        yield Results(winner='paper', loser='rock', why='Paper covers rock')\n",
    "        yield Results(winner='scissors', loser='paper', why='Scissors cut paper')\n",
    "        yield ValidAnswer(answer='rock', key='r')\n",
    "        yield ValidAnswer(answer='paper', key='p')\n",
    "        yield ValidAnswer(answer='scissors', key='s')\n",
    "        \n",
    "        if is_nerd:\n",
    "            yield Results(winner='rock', loser='lizard', why='Rock crushes lizard')\n",
    "            yield Results(winner='spock', loser='rock', why='Spock vaporizes rock')\n",
    "            yield Results(winner='spock', loser='scissors', why='Spock smashes scissors')\n",
    "            yield Results(winner='paper', loser='spock', why='Paper disproves Spock')\n",
    "            yield Results(winner='scissors', loser='lizard', why='Scissors decapitates lizard')\n",
    "            yield Results(winner='lizard', loser='paper', why='Lizard eats paper')\n",
    "            yield Results(winner='lizard', loser='spock', why='Lizard poisons Spock')\n",
    "            yield ValidAnswer(answer='spock', key='k')\n",
    "            yield ValidAnswer(answer='lizard', key='l')\n",
    "            \n",
    "    @Rule()\n",
    "    def startup(self):\n",
    "        print(\"Lets play a game!\")\n",
    "        print(\"You choose rock, paper, or scissors,\")\n",
    "        print(\"and I'll do the same.\")\n",
    "        self.declare(WinTotals(human=0, computer=0, ties=0))\n",
    "        self.declare(Action('get-human-move'))\n",
    "        \n",
    "    @Rule(NOT(Action()),\n",
    "          ValidAnswer(answer=MATCH.answer,\n",
    "                      key=MATCH.key))\n",
    "    def store_valid_answers(self, answer, key):\n",
    "        self.valid_answers[key] = answer\n",
    "        \n",
    "    #\n",
    "    # HUMAN MOVE RULES\n",
    "    #\n",
    "    @Rule(Action('get-human-move'))\n",
    "    def get_human_move(self):\n",
    "        question = \", \".join(\n",
    "            \"{name} ({key})\".format(\n",
    "                name=a[1].title(), key=a[0].upper())\n",
    "            for a in self.valid_answers.items()) + '? '\n",
    "        res = input(question).lower()\n",
    "        self.declare(HumanChoice(res))\n",
    "    \n",
    "    @Rule(AS.f1 << HumanChoice(MATCH.choice),\n",
    "          ValidAnswer(answer=MATCH.answer,\n",
    "                      key=MATCH.choice),\n",
    "          AS.f2 << Action('get-human-move'))\n",
    "    def good_human_move(self, f1, f2, answer):\n",
    "        self.retract(f1)\n",
    "        self.retract(f2)\n",
    "        self.declare(HumanChoice(answer))\n",
    "        self.declare(Action('get-computer-move'))\n",
    "    \n",
    "    @Rule(AS.f1 << HumanChoice(MATCH.choice),\n",
    "          NOT(ValidAnswer(key=MATCH.choice)),\n",
    "          AS.f2 << Action('get-human-move'))\n",
    "    def bad_human_move(self, f1, f2, choice):\n",
    "        print(\"Sorry %s is not a valid answer\" % choice)\n",
    "        self.retract(f1)\n",
    "        self.retract(f2)\n",
    "        self.declare(Action('get-human-move'))\n",
    "    \n",
    "    #\n",
    "    # COMPUTER MOVE RULES\n",
    "    #\n",
    "    @Rule(AS.f1 << Action('get-computer-move'))\n",
    "    def get_computer_move(self, f1):\n",
    "        choice = random.choice(list(self.valid_answers.values()))\n",
    "        self.retract(f1)\n",
    "        self.declare(ComputerChoice(choice))\n",
    "        self.declare(Action('determine-results'))\n",
    "\n",
    "    #\n",
    "    # WIN DETERMINATION RULES\n",
    "    #\n",
    "    @Rule(AS.f1 << Action('determine-results'),\n",
    "          AS.f2 << ComputerChoice(MATCH.cc),\n",
    "          AS.f3 << HumanChoice(MATCH.hc),\n",
    "          AS.w << WinTotals(computer=MATCH.cw),\n",
    "          Results(winner=MATCH.cc,\n",
    "                  loser=MATCH.hc,\n",
    "                  why=MATCH.explanation))\n",
    "    def computer_wins(self, f1, f2, f3, w, cw, explanation):\n",
    "        self.retract(f1)\n",
    "        self.retract(f2)\n",
    "        self.retract(f3)\n",
    "        self.modify(w, computer=cw + 1)\n",
    "        print(\"Computer wins!\", explanation)\n",
    "        self.declare(Action('determine-play-again'))\n",
    "        \n",
    "    @Rule(AS.f1 << Action('determine-results'),\n",
    "          AS.f2 << ComputerChoice(MATCH.cc),\n",
    "          AS.f3 << HumanChoice(MATCH.hc),\n",
    "          'w' << WinTotals(human=MATCH.hw),\n",
    "          Results(winner=MATCH.hc,\n",
    "                  loser=MATCH.cc,\n",
    "                  why=MATCH.explanation))\n",
    "    def humans_wins(self, f1, f2, f3, w, hw, explanation):\n",
    "        self.retract(f1)\n",
    "        self.retract(f2)\n",
    "        self.retract(f3)\n",
    "        self.modify(w, human=hw + 1)\n",
    "        print(\"You win!\", explanation)\n",
    "        self.declare(Action('determine-play-again'))\n",
    "        \n",
    "    @Rule(AS.f1 << Action('determine-results'),\n",
    "          AS.f2 << ComputerChoice(MATCH.cc),\n",
    "          AS.f3 << HumanChoice(MATCH.cc),\n",
    "          AS.w << WinTotals(ties=MATCH.nt))\n",
    "    def tie(self, f1, f2, f3, w, nt):\n",
    "        self.retract(f1)\n",
    "        self.retract(f2)\n",
    "        self.retract(f3)\n",
    "        self.modify(w, ties=nt + 1)\n",
    "        print(\"Tie! Ha-ha!\")\n",
    "        self.declare(Action('determine-play-again'))\n",
    "    \n",
    "    #\n",
    "    # PLAY AGAIN RULE\n",
    "    #\n",
    "    @Rule(AS.f1 << Action('determine-play-again'),\n",
    "          WinTotals(computer=MATCH.ct,\n",
    "                    human=MATCH.ht,\n",
    "                    ties=MATCH.tt))\n",
    "    def play_again(self, f1, ct, ht, tt):\n",
    "        self.retract(f1)\n",
    "        if not self.yes_or_no(\"Play again?\"):\n",
    "            print(\"You won\", ht, \"game(s).\")\n",
    "            print(\"Computer won\", ct, \"game(s).\")\n",
    "            print(\"We tied\", tt, \"game(s).\")\n",
    "            self.halt()\n",
    "        else:\n",
    "            self.declare(Action('get-human-move'))\n",
    "            \n",
    "rps = RockPaperScissors()\n",
    "rps.reset()\n",
    "rps.run()"
   ]
  },
  {
   "cell_type": "markdown",
   "metadata": {},
   "source": [
    "+ https://media.readthedocs.org/pdf/pyknow/latest/pyknow.pdf"
   ]
  }
 ],
 "metadata": {
  "kernelspec": {
   "display_name": "Python 3",
   "language": "python",
   "name": "python3"
  },
  "language_info": {
   "codemirror_mode": {
    "name": "ipython",
    "version": 3
   },
   "file_extension": ".py",
   "mimetype": "text/x-python",
   "name": "python",
   "nbconvert_exporter": "python",
   "pygments_lexer": "ipython3",
   "version": "3.6.6"
  }
 },
 "nbformat": 4,
 "nbformat_minor": 2
}
